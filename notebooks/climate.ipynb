{
 "cells": [
  {
   "cell_type": "markdown",
   "id": "07927e79",
   "metadata": {},
   "source": [
    "# Classify embeddings\n",
    "\n",
    "This notebook can be used to recreate Fig. 4 from the manuscript. We compute and classify embeddings for several vector field datasets using a pretrained model. \n",
    "\n",
    "Our coding framework is based on a Click interface and we make use of that in this notebook by running the basic steps in the pipeline through shell commands.note\n",
    "\n",
    "**NOTE**: This notebook assumes you have a pretrained model. You can train a model using the notebook `train_and_eval`."
   ]
  },
  {
   "cell_type": "code",
   "execution_count": 1,
   "id": "3e2789a7",
   "metadata": {},
   "outputs": [],
   "source": [
    "import os\n",
    "import torch\n",
    "import subprocess\n",
    "from src.utils import get_command_defaults, ensure_dir, write_yaml, update_yaml\n",
    "from src.train import load_model, train_model, run_epoch\n",
    "from src.data import load_dataset, SystemFamily"
   ]
  },
  {
   "cell_type": "markdown",
   "id": "29da8a5a",
   "metadata": {},
   "source": [
    "## Load data\n",
    "First, we generate the relevant evaluation data. There are three datasets immediately available here: (1) linear (e.g. fixed point classification), (2) conservative vs non-conservative and (3) incompressible vs compressible. You can comment out the `eval_data_names` definitions to switch between experiments.\n",
    "\n",
    "First, we set the data generation parameters. "
   ]
  },
  {
   "cell_type": "code",
   "execution_count": 4,
   "id": "851c66a8",
   "metadata": {},
   "outputs": [],
   "source": [
    "data_dir = os.path.join('/home/mgricci/data/phase2vec')\n",
    "data_set = 'koppen'\n",
    "eval_data_path = os.path.join(data_dir, data_set)\n",
    "time_avg = True\n",
    "coarse_labeling = True\n",
    "\n",
    "device='cpu'\n",
    "# Get reps"
   ]
  },
  {
   "cell_type": "markdown",
   "id": "d881af2c",
   "metadata": {},
   "source": [
    "Next, we call the actual shell commands for generating the data. These commands will make two directories, called `polynomial` and `classical`, corresponding to train and test sets, inside your `data_dir`. \n",
    "\n",
    "In order to alter the validation proportion, $p$, add the flag `--val-size <p>` where $p\\in (0,1)$. "
   ]
  },
  {
   "cell_type": "code",
   "execution_count": 3,
   "id": "6c484a0b",
   "metadata": {},
   "outputs": [],
   "source": [
    "# Download data here? "
   ]
  },
  {
   "cell_type": "code",
   "execution_count": 8,
   "id": "221140ed",
   "metadata": {},
   "outputs": [],
   "source": [
    "import os\n",
    "for i in range(12):\n",
    "    os.makedirs(os.path.join(eval_data_path, str(i)))"
   ]
  },
  {
   "cell_type": "markdown",
   "id": "c8a948e1",
   "metadata": {},
   "source": [
    "## Load `phase2vec` encoder. \n",
    "\n",
    "We load the embedding CNN. By default, the net is saved in the folder `basic_train`, which is the default directory given in the `train_and_eval` notebook. \n",
    "\n",
    "* **model_type** (str): which of the pre-built architectures from _models.py to load. Make your own by combining modules from _modules.py \n",
    "* **latent_dim** (int): embedding dimension\n",
    "* Continue..."
   ]
  },
  {
   "cell_type": "code",
   "execution_count": 3,
   "id": "854d71bb",
   "metadata": {},
   "outputs": [],
   "source": [
    "## Set net parameters\n",
    "from src.cli._cli import generate_net_config\n",
    "\n",
    "net_info = get_command_defaults(generate_net_config)\n",
    "model_type = net_info['net_class']\n",
    "model_save_dir  = os.path.join('/home/mgricci/phase2vec/', 'basic_train')\n",
    "\n",
    "# These parameters are not considered architectural parameters for the net, so we delete them before they're passed to the net builder. \n",
    "del net_info['net_class']\n",
    "del net_info['output_file']\n",
    "\n",
    "net = load_model(model_type, pretrained_path=os.path.join(model_save_dir, 'model.pt'), device=device, **net_info).to(device)"
   ]
  },
  {
   "cell_type": "code",
   "execution_count": null,
   "id": "f704f263",
   "metadata": {},
   "outputs": [],
   "source": []
  },
  {
   "cell_type": "markdown",
   "id": "80583ef7",
   "metadata": {},
   "source": [
    "## Load data and compute embeddings\n"
   ]
  },
  {
   "cell_type": "code",
   "execution_count": 6,
   "id": "17cca4fa",
   "metadata": {},
   "outputs": [],
   "source": [
    "# Where is evaluation data stored? \n",
    "import numpy as np\n",
    "# Load evaluation data. \n",
    "X_train, X_test, y_train, y_test, p_train, p_test = load_dataset(eval_data_path)\n",
    "\n",
    "# for i, (name, data, labels, pars) in enumerate(zip(['train', 'test'], [X_train, X_test],[y_train, y_test],[p_train, p_test])):\n",
    "#     for month in range(12):\n",
    "#         save_path = os.path.join(eval_data_path, str(month))\n",
    "#         monthly_data = data[:,month]\n",
    "#         monthly_pars = pars[:,month]\n",
    "#         np.save(os.path.join(save_path, f'X_{name}.npy'), monthly_data)\n",
    "#         np.save(os.path.join(save_path, f'y_{name}.npy'), labels)\n",
    "#         np.save(os.path.join(save_path, f'p_{name}.npy'), monthly_pars)"
   ]
  },
  {
   "cell_type": "code",
   "execution_count": 7,
   "id": "47de1536",
   "metadata": {},
   "outputs": [
    {
     "data": {
      "text/plain": [
       "array([30., 27., 29., ...,  4., 29., 26.], dtype=float32)"
      ]
     },
     "execution_count": 7,
     "metadata": {},
     "output_type": "execute_result"
    }
   ],
   "source": [
    "y_train"
   ]
  },
  {
   "cell_type": "markdown",
   "id": "a84192ec",
   "metadata": {},
   "source": [
    "Now, we compute and save the embeddings."
   ]
  },
  {
   "cell_type": "code",
   "execution_count": 3,
   "id": "70f5a131",
   "metadata": {},
   "outputs": [
    {
     "data": {
      "text/plain": [
       "'/home/mgricci/results/phase2vec/koppen'"
      ]
     },
     "execution_count": 3,
     "metadata": {},
     "output_type": "execute_result"
    }
   ],
   "source": [
    "import numpy as np\n",
    "import gc\n",
    "\n",
    "results_dir = f'/home/mgricci/results/phase2vec/koppen'\n",
    "ensure_dir(results_dir)\n",
    "\n",
    "\n",
    "# for i, (name, data, labels, pars) in enumerate(zip(['train', 'test'], [X_train, X_test],[y_train, y_test],[p_train, p_test])):\n",
    "#     embeddings = []\n",
    "#     for month in range(3):\n",
    "#         print(month)\n",
    "#         monthly_data = data[:,month]\n",
    "#         monthly_pars = pars[:,month]\n",
    "\n",
    "#         losses, monthly_embeddings = run_epoch(monthly_data, labels, monthly_pars,\n",
    "#                                    net, 0, None,\n",
    "#                                    train=False,\n",
    "#                                    device=device,\n",
    "#                                    batch_size=64,\n",
    "#                                    return_embeddings=True)\n",
    "#         embeddings.append(monthly_embeddings)\n",
    "#         gc.collect()\n",
    "#     embeddings = torch.stack(embeddings)\n",
    "#     np.save(os.path.join(results_dir,f'embeddings_{name}.npy'), embeddings.mean(0).detach().cpu().numpy())\n"
   ]
  },
  {
   "cell_type": "code",
   "execution_count": 5,
   "id": "afce4ec5",
   "metadata": {},
   "outputs": [
    {
     "name": "stderr",
     "output_type": "stream",
     "text": [
      "Traceback (most recent call last):\n",
      "  File \"/home/mgricci/anaconda3/envs/phase2vec/bin/phase2vec\", line 33, in <module>\n",
      "    sys.exit(load_entry_point('phase2vec', 'console_scripts', 'phase2vec')())\n",
      "  File \"/home/mgricci/anaconda3/envs/phase2vec/lib/python3.8/site-packages/click/core.py\", line 1130, in __call__\n",
      "    return self.main(*args, **kwargs)\n",
      "  File \"/home/mgricci/anaconda3/envs/phase2vec/lib/python3.8/site-packages/click/core.py\", line 1055, in main\n",
      "    rv = self.invoke(ctx)\n",
      "  File \"/home/mgricci/anaconda3/envs/phase2vec/lib/python3.8/site-packages/click/core.py\", line 1657, in invoke\n",
      "    return _process_result(sub_ctx.command.invoke(sub_ctx))\n",
      "  File \"/home/mgricci/anaconda3/envs/phase2vec/lib/python3.8/site-packages/click/core.py\", line 1404, in invoke\n",
      "    return ctx.invoke(self.callback, **ctx.params)\n",
      "  File \"/home/mgricci/anaconda3/envs/phase2vec/lib/python3.8/site-packages/click/core.py\", line 760, in invoke\n",
      "    return __callback(*args, **kwargs)\n",
      "  File \"/home/mgricci/projects/phase2vec/src/cli/_cli.py\", line 290, in classify\n",
      "    clf = LogisticRegressionCV(**clf_params).fit(z_train, y_train)\n",
      "  File \"/home/mgricci/anaconda3/envs/phase2vec/lib/python3.8/site-packages/sklearn/linear_model/_logistic.py\", line 2154, in fit\n",
      "    fold_coefs_ = Parallel(\n",
      "  File \"/home/mgricci/anaconda3/envs/phase2vec/lib/python3.8/site-packages/joblib/parallel.py\", line 1088, in __call__\n",
      "    while self.dispatch_one_batch(iterator):\n",
      "  File \"/home/mgricci/anaconda3/envs/phase2vec/lib/python3.8/site-packages/joblib/parallel.py\", line 901, in dispatch_one_batch\n",
      "    self._dispatch(tasks)\n",
      "  File \"/home/mgricci/anaconda3/envs/phase2vec/lib/python3.8/site-packages/joblib/parallel.py\", line 819, in _dispatch\n",
      "    job = self._backend.apply_async(batch, callback=cb)\n",
      "  File \"/home/mgricci/anaconda3/envs/phase2vec/lib/python3.8/site-packages/joblib/_parallel_backends.py\", line 208, in apply_async\n",
      "    result = ImmediateResult(func)\n",
      "  File \"/home/mgricci/anaconda3/envs/phase2vec/lib/python3.8/site-packages/joblib/_parallel_backends.py\", line 597, in __init__\n",
      "    self.results = batch()\n",
      "  File \"/home/mgricci/anaconda3/envs/phase2vec/lib/python3.8/site-packages/joblib/parallel.py\", line 288, in __call__\n",
      "    return [func(*args, **kwargs)\n",
      "  File \"/home/mgricci/anaconda3/envs/phase2vec/lib/python3.8/site-packages/joblib/parallel.py\", line 288, in <listcomp>\n",
      "    return [func(*args, **kwargs)\n",
      "  File \"/home/mgricci/anaconda3/envs/phase2vec/lib/python3.8/site-packages/sklearn/utils/fixes.py\", line 216, in __call__\n",
      "    return self.function(*args, **kwargs)\n",
      "  File \"/home/mgricci/anaconda3/envs/phase2vec/lib/python3.8/site-packages/sklearn/linear_model/_logistic.py\", line 1060, in _log_reg_scoring_path\n",
      "    coefs, Cs, n_iter = _logistic_regression_path(\n",
      "  File \"/home/mgricci/anaconda3/envs/phase2vec/lib/python3.8/site-packages/sklearn/linear_model/_logistic.py\", line 692, in _logistic_regression_path\n",
      "    class_weight_ = compute_class_weight(class_weight, classes=classes, y=y)\n",
      "  File \"/home/mgricci/anaconda3/envs/phase2vec/lib/python3.8/site-packages/sklearn/utils/class_weight.py\", line 64, in compute_class_weight\n",
      "    raise ValueError(\"Class label {} not present.\".format(c))\n",
      "ValueError: Class label 13 not present.\n"
     ]
    },
    {
     "data": {
      "text/plain": [
       "1"
      ]
     },
     "execution_count": 5,
     "metadata": {},
     "output_type": "execute_result"
    }
   ],
   "source": [
    "clf_command = f'phase2vec classify {eval_data_path} --feature-name embeddings --classifier logistic_regressor --results-dir {results_dir}'\n",
    "subprocess.call(clf_command,shell=True)"
   ]
  },
  {
   "cell_type": "code",
   "execution_count": 22,
   "id": "2accbbaa",
   "metadata": {},
   "outputs": [
    {
     "data": {
      "text/plain": [
       "(2000,)"
      ]
     },
     "execution_count": 22,
     "metadata": {},
     "output_type": "execute_result"
    }
   ],
   "source": [
    "labels.shape"
   ]
  },
  {
   "cell_type": "code",
   "execution_count": 15,
   "id": "1cae353b",
   "metadata": {},
   "outputs": [
    {
     "ename": "AttributeError",
     "evalue": "module 'gc' has no attribute 'gc'",
     "output_type": "error",
     "traceback": [
      "\u001b[0;31m---------------------------------------------------------------------------\u001b[0m",
      "\u001b[0;31mAttributeError\u001b[0m                            Traceback (most recent call last)",
      "Cell \u001b[0;32mIn [15], line 1\u001b[0m\n\u001b[0;32m----> 1\u001b[0m \u001b[43mgc\u001b[49m\u001b[38;5;241;43m.\u001b[39;49m\u001b[43mgc\u001b[49m()\n",
      "\u001b[0;31mAttributeError\u001b[0m: module 'gc' has no attribute 'gc'"
     ]
    }
   ],
   "source": [
    "gc.gc()"
   ]
  },
  {
   "cell_type": "code",
   "execution_count": null,
   "id": "67d4eb19",
   "metadata": {},
   "outputs": [],
   "source": []
  }
 ],
 "metadata": {
  "kernelspec": {
   "display_name": "Python 3 (ipykernel)",
   "language": "python",
   "name": "python3"
  },
  "language_info": {
   "codemirror_mode": {
    "name": "ipython",
    "version": 3
   },
   "file_extension": ".py",
   "mimetype": "text/x-python",
   "name": "python",
   "nbconvert_exporter": "python",
   "pygments_lexer": "ipython3",
   "version": "3.8.13"
  }
 },
 "nbformat": 4,
 "nbformat_minor": 5
}
