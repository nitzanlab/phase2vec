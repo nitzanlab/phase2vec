{
 "cells": [
  {
   "cell_type": "markdown",
   "id": "2f282e31",
   "metadata": {},
   "source": [
    "# View data\n",
    "\n",
    "Here, you can load data sets you've generated, display streamplots and observe the divergence and curl."
   ]
  },
  {
   "cell_type": "code",
   "execution_count": null,
   "id": "8471467f",
   "metadata": {},
   "outputs": [],
   "source": [
    "import numpy as np\n",
    "import matplotlib.pyplot as plt\n",
    "import os\n",
    "import torch\n",
    "from phase2vec.data._utils import divergence, jacobian, curl\n",
    "plt.style.use('ggplot')"
   ]
  },
  {
   "cell_type": "markdown",
   "id": "8cde909a",
   "metadata": {},
   "source": [
    "## Load data"
   ]
  },
  {
   "cell_type": "code",
   "execution_count": null,
   "id": "60bdd2f9",
   "metadata": {},
   "outputs": [],
   "source": [
    "data_name = 'classical' # Edit this line\n",
    "outdir = '../output/'\n",
    "data_dir  = os.path.join(outdir, 'data', data_name) # And this line \n",
    "data_fn   = os.path.join(data_dir, 'X_train.npy')\n",
    "labels_fn = os.path.join(data_dir, 'y_train.npy')\n",
    "pars_fn = os.path.join(data_dir, 'p_train.npy')\n",
    "\n",
    "data   = np.load(data_fn)\n",
    "labels = np.load(labels_fn)\n",
    "pars = np.load(pars_fn)\n",
    "\n",
    "num_data = data.shape[0]\n",
    "num_vis = 16\n",
    "vis_inds = np.random.permutation(num_data)[:num_vis]\n",
    "\n",
    "vis_data = [data[ind] for ind in vis_inds]\n",
    "vis_labels = [labels[ind] for ind in vis_inds]\n",
    "vis_pars = [pars[ind] for ind in vis_inds]"
   ]
  },
  {
   "cell_type": "markdown",
   "id": "4c6e4f9c",
   "metadata": {},
   "source": [
    "## Visualize stream plots"
   ]
  },
  {
   "cell_type": "code",
   "execution_count": null,
   "id": "a423b54b",
   "metadata": {
    "scrolled": false
   },
   "outputs": [],
   "source": [
    "fig, axes = plt.subplots(4,4,figsize=(12,12))\n",
    "\n",
    "x = np.linspace(-1.0,1.0,64)\n",
    "y = np.linspace(-1.0,1.0,64)\n",
    "for datum, label, par, ax in zip(vis_data, vis_labels, vis_pars, axes.reshape(-1)):\n",
    "    datum = datum.transpose(0,2,1)\n",
    "    ax.streamplot(x,y,datum[0],datum[1],color=(datum**2).sum(0), cmap='hot')\n",
    "    ax.set_title(f'Label: {label}')\n",
    "    ax.grid(b=None)\n",
    "    ax.set_xticks([])\n",
    "    ax.set_yticks([])\n",
    "plt.show()\n",
    "plt.close()"
   ]
  },
  {
   "cell_type": "markdown",
   "id": "a57ad3c4",
   "metadata": {},
   "source": [
    "## Visualize divergence"
   ]
  },
  {
   "cell_type": "code",
   "execution_count": null,
   "id": "c762ddcb",
   "metadata": {},
   "outputs": [],
   "source": [
    "fig, axes = plt.subplots(4,4,figsize=(12,12), tight_layout=False, constrained_layout=True)\n",
    "\n",
    "Ds = divergence(torch.tensor(vis_data),spacings=(torch.tensor(x),torch.tensor(x)))\n",
    "vmin = Ds.min()\n",
    "vmax = Ds.max()\n",
    "for datum, label, ax in zip(Ds, vis_labels, axes.reshape(-1)):\n",
    "    ax.imshow(datum,cmap='RdBu', vmin=vmin, vmax=vmax)\n",
    "    ax.set_title(f'Label: {label}')\n",
    "plt.show()\n",
    "plt.close()"
   ]
  },
  {
   "cell_type": "markdown",
   "id": "820696cf",
   "metadata": {},
   "source": [
    "## Visualize curl"
   ]
  },
  {
   "cell_type": "code",
   "execution_count": null,
   "id": "0f8c5617",
   "metadata": {},
   "outputs": [],
   "source": [
    "fig, axes = plt.subplots(4,4,figsize=(12,12), tight_layout=False, constrained_layout=True)\n",
    "\n",
    "Cs = curl(torch.tensor(vis_data),spacings=(torch.tensor(x),torch.tensor(x)))\n",
    "vmin = Cs.min()\n",
    "vmax = Cs.max()\n",
    "for datum, label, ax in zip(Cs, vis_labels, axes.reshape(-1)):\n",
    "    ax.imshow(datum[-1,...,0],cmap='RdBu', vmin=vmin, vmax=vmax)\n",
    "    ax.set_title(f'Label: {label}')\n",
    "plt.show()\n",
    "plt.close()"
   ]
  }
 ],
 "metadata": {
  "kernelspec": {
   "display_name": "Python 3 (ipykernel)",
   "language": "python",
   "name": "python3"
  },
  "language_info": {
   "codemirror_mode": {
    "name": "ipython",
    "version": 3
   },
   "file_extension": ".py",
   "mimetype": "text/x-python",
   "name": "python",
   "nbconvert_exporter": "python",
   "pygments_lexer": "ipython3",
   "version": "3.8.15"
  }
 },
 "nbformat": 4,
 "nbformat_minor": 5
}
