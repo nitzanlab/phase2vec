{
 "cells": [
  {
   "cell_type": "markdown",
   "id": "07927e79",
   "metadata": {},
   "source": [
    "# Train and evaluate model\n",
    "\n",
    "This notebook recreates Table 1 from the manuscript. We train a basic CNN encoder from scratch on a dataset of sparse polynomials. We then evaluate reconstruction performance on a set of basis systems from across the sciences. \n",
    "\n",
    "Our coding framework is based on a Click interface and we make use of that in this notebook by running the basic steps in the pipeline through shell commands. \n"
   ]
  },
  {
   "cell_type": "code",
   "execution_count": 1,
   "id": "3e2789a7",
   "metadata": {},
   "outputs": [],
   "source": [
    "import os\n",
    "import subprocess\n",
    "from src.utils import get_command_defaults, ensure_dir, write_yaml, update_yaml\n",
    "from src.train import load_model, train_model, run_epoch\n",
    "from src.data import load_dataset, SystemFamily"
   ]
  },
  {
   "cell_type": "markdown",
   "id": "29da8a5a",
   "metadata": {},
   "source": [
    "## Generate data\n",
    "First, we generate both the training and testing sets. The former will be a set of vector fields corresponding to polynomial ODEs of degree at most 3 and having sparse coefficients. The testing set will be vector fields representing the flows of 10 types of sytsems drawn from across the sciences. In all cases, we work with planar (i.e. two-dimensional systems). \n",
    "\n",
    "First, we set some basic parameters, including the types of training and testing data and the number of their samples. "
   ]
  },
  {
   "cell_type": "code",
   "execution_count": 11,
   "id": "851c66a8",
   "metadata": {},
   "outputs": [],
   "source": [
    "## Generate data\n",
    "\n",
    "data_dir = '/home/mgricci/data/phase2vec' # Alter to change where all of the phase2vec data will be saved. \n",
    "\n",
    "# Edit the data included in training and testing here. \n",
    "train_data_names = ['polynomial']\n",
    "test_data_names  = ['saddle_node', 'pitchfork', 'transcritical',\n",
    "                    'selkov', 'homoclinic', 'vanderpol',\n",
    "                    'simple_oscillator', 'fitzhugh_nagumo']\n",
    "\n",
    "train_system_classes = []\n",
    "test_system_classes = []\n",
    "for n, names in enumerate([train_data_names, test_data_names]):\n",
    "    for system in [SystemFamily(data_name=name) for name in names]:\n",
    "        if n == 0:\n",
    "            train_system_classes += [system.data_name + ' ' + str(i) for i in range(len(system.param_groups))]\n",
    "        else:\n",
    "            test_system_classes += [system.data_name + ' ' + str(i) for i in range(len(system.param_groups))]\n",
    "\n",
    "num_train_classes = len(train_system_classes)\n",
    "num_test_classes = len(test_system_classes)\n",
    "\n",
    "# Edit the number of total samples from each data set here.\n",
    "#By default, each set is divied further into a base and validation set at a 75/100 split. This can be altered below. \n",
    "num_train_samples = 10000 # total number of train/val samples\n",
    "num_test_samples  = 2000 # total number of test samples. Note these are split themselves automatically into a regular and a validation component, but they can be combined. \n",
    "device            = 'cpu' # set to `cpu` if cuda not available\n",
    "\n",
    "# Leave this untouched unless you want to change how parameters from each system are sampled and the proportions of each system in the data set.\n",
    "test_samplers    = ['uniform'] * len(test_data_names)\n",
    "test_props       = [str(1. / len(test_data_names))] * len(test_data_names)\n",
    "test_data_names   = '-s ' +  ' -s '.join(test_data_names)\n",
    "test_samplers     = '-sp ' +  ' -sp '.join(test_samplers)\n",
    "test_props = '-c ' +  ' -c '.join(test_props)"
   ]
  },
  {
   "cell_type": "markdown",
   "id": "d881af2c",
   "metadata": {},
   "source": [
    "Next, we call the actual shell commands for generating the data. These commands will make two directories, called `polynomial` and `classical`, corresponding to train and test sets, inside your `data_dir`. \n",
    "\n",
    "In order to alter the validation proportion, $p$, add the flag `--val-size <p>` where $p\\in (0,1)$. "
   ]
  },
  {
   "cell_type": "code",
   "execution_count": null,
   "id": "6c484a0b",
   "metadata": {},
   "outputs": [],
   "source": [
    "subprocess.call(f'phase2vec generate-dataset --data-dir {data_dir} --data-set-name polynomial --num-samples {num_train_samples} --data-set-name polynomial --system-names {train_data_names[0]}', shell=True)\n",
    "subprocess.call(f'phase2vec generate-dataset --data-dir {data_dir} --data-set-name classical --num-samples {num_test_samples} --data-set-name classical {test_data_names} {test_samplers} {test_props}', shell=True)"
   ]
  },
  {
   "cell_type": "markdown",
   "id": "c8a948e1",
   "metadata": {},
   "source": [
    "## Instantiate `phase2vec` encoder. \n",
    "\n",
    "We build the embedding CNN. We use the default parameters which we access by fetching the default arguments from the click command `generate_net_config`. To edit these parameters, alter the values of the dictionary `net_info`. \n",
    "\n",
    "* **model_type** (str): which of the pre-built architectures from _models.py to load. Make your own by combining modules from _modules.py \n",
    "* **latent_dim** (int): embedding dimension\n",
    "* Continue..."
   ]
  },
  {
   "cell_type": "code",
   "execution_count": 3,
   "id": "854d71bb",
   "metadata": {},
   "outputs": [],
   "source": [
    "## Set net parameters\n",
    "from src.cli._cli import generate_net_config\n",
    "\n",
    "net_info = get_command_defaults(generate_net_config)\n",
    "model_type = net_info['net_class']\n",
    "\n",
    "# These parameters are not considered architectural parameters for the net, so we delete them before they're passed to the net builder. \n",
    "del net_info['net_class']\n",
    "del net_info['output_file']\n",
    "del net_info['pretrained_path']\n",
    "del net_info['ae']\n",
    "\n",
    "net = load_model(model_type, pretrained_path=None, device=device, **net_info).to(device)"
   ]
  },
  {
   "cell_type": "markdown",
   "id": "80583ef7",
   "metadata": {},
   "source": [
    "## Set training parameters and load data. \n",
    "\n",
    "Next, we set the optimization parameters for training. As before, we fetch the default arguments from the relevant click command, `call_train`. These parameters can be updated by altering the values of the dictionary `train_info`. "
   ]
  },
  {
   "cell_type": "code",
   "execution_count": 5,
   "id": "17cca4fa",
   "metadata": {},
   "outputs": [],
   "source": [
    "## Set training parameters\n",
    "from src.cli._cli import call_train\n",
    "\n",
    "train_info = get_command_defaults(call_train)\n",
    "train_info['exp_name']   = 'basic_train'\n",
    "train_info['log_dir']    = '/home/mgricci/runs'\n",
    "train_info['num_epochs'] = 10\n",
    "train_info['beta'] = 0.0\n",
    "\n",
    "\n",
    "# These are only used by the click interface. \n",
    "del train_info['model_save_dir']\n",
    "del train_info['seed']\n",
    "del train_info['config_file']\n",
    "\n",
    "# Set some training paths\n",
    "\n",
    "pretrained_path = None # Replace with model_save_dir in order to load a pretrained model\n",
    "model_save_dir  = os.path.join('/home/mgricci/phase2vec/', train_info['exp_name'])\n",
    "ensure_dir(train_info['log_dir'])\n",
    "\n",
    "# Where is training data stored? \n",
    "train_data_path = os.path.join(data_dir, 'polynomial')\n",
    "\n",
    "# Load training data. \n",
    "X_train, X_val, y_train, y_val, p_train, p_val = load_dataset(train_data_path)"
   ]
  },
  {
   "cell_type": "markdown",
   "id": "a84192ec",
   "metadata": {},
   "source": [
    "Now, we actually train the model. "
   ]
  },
  {
   "cell_type": "code",
   "execution_count": 6,
   "id": "70f5a131",
   "metadata": {},
   "outputs": [
    {
     "name": "stdout",
     "output_type": "stream",
     "text": [
      "Running Epoch 0\n",
      "Training: Total loss: 0.84, Recon loss: 0.84,  Sparsity loss: 0.33, Parameter loss: 3.15\n",
      "Validating: Total loss: 0.67, Recon loss: 0.67,  Sparsity loss: 0.38, Parameter loss: 3.19\n",
      "Running Epoch 1\n",
      "Training: Total loss: 0.69, Recon loss: 0.69,  Sparsity loss: 0.39, Parameter loss: 3.23\n",
      "Validating: Total loss: 0.60, Recon loss: 0.60,  Sparsity loss: 0.41, Parameter loss: 3.22\n",
      "Running Epoch 2\n",
      "Training: Total loss: 0.65, Recon loss: 0.65,  Sparsity loss: 0.42, Parameter loss: 3.29\n",
      "Validating: Total loss: 0.55, Recon loss: 0.55,  Sparsity loss: 0.44, Parameter loss: 3.29\n",
      "Running Epoch 3\n",
      "Training: Total loss: 0.62, Recon loss: 0.62,  Sparsity loss: 0.45, Parameter loss: 3.36\n",
      "Validating: Total loss: 0.53, Recon loss: 0.53,  Sparsity loss: 0.46, Parameter loss: 3.34\n",
      "Running Epoch 4\n",
      "Training: Total loss: 0.60, Recon loss: 0.60,  Sparsity loss: 0.47, Parameter loss: 3.42\n",
      "Validating: Total loss: 0.50, Recon loss: 0.50,  Sparsity loss: 0.48, Parameter loss: 3.40\n",
      "Running Epoch 5\n",
      "Training: Total loss: 0.58, Recon loss: 0.58,  Sparsity loss: 0.49, Parameter loss: 3.47\n",
      "Validating: Total loss: 0.48, Recon loss: 0.48,  Sparsity loss: 0.50, Parameter loss: 3.46\n",
      "Running Epoch 6\n",
      "Training: Total loss: 0.56, Recon loss: 0.56,  Sparsity loss: 0.51, Parameter loss: 3.52\n",
      "Validating: Total loss: 0.46, Recon loss: 0.46,  Sparsity loss: 0.52, Parameter loss: 3.52\n",
      "Running Epoch 7\n",
      "Training: Total loss: 0.55, Recon loss: 0.55,  Sparsity loss: 0.52, Parameter loss: 3.56\n",
      "Validating: Total loss: 0.45, Recon loss: 0.45,  Sparsity loss: 0.53, Parameter loss: 3.55\n",
      "Running Epoch 8\n",
      "Training: Total loss: 0.55, Recon loss: 0.55,  Sparsity loss: 0.53, Parameter loss: 3.60\n",
      "Validating: Total loss: 0.44, Recon loss: 0.44,  Sparsity loss: 0.54, Parameter loss: 3.59\n",
      "Running Epoch 9\n",
      "Training: Total loss: 0.53, Recon loss: 0.53,  Sparsity loss: 0.55, Parameter loss: 3.64\n",
      "Validating: Total loss: 0.42, Recon loss: 0.42,  Sparsity loss: 0.55, Parameter loss: 3.61\n"
     ]
    }
   ],
   "source": [
    "# Train the model\n",
    "net = train_model(X_train, X_val,\n",
    "                  y_train, y_val,\n",
    "                  p_train, p_val,\n",
    "                  net,**train_info)\n",
    "\n",
    "# Save it\n",
    "from torch import save\n",
    "save(net.state_dict(), os.path.join(model_save_dir, 'model.pt'))"
   ]
  },
  {
   "cell_type": "code",
   "execution_count": 7,
   "id": "a573ba29",
   "metadata": {},
   "outputs": [],
   "source": [
    "import numpy as np\n",
    "import pdb\n",
    "\n",
    "results_dir = f'/home/mgricci/results/phase2vec/{train_info[\"exp_name\"]}'\n",
    "ensure_dir(results_dir)\n",
    "# Load testing data\n",
    "\n",
    "test_data_path = os.path.join(data_dir, 'classical')\n",
    "X_test1, X_test2, y_test1, y_test2, p_test1, p_test2 = load_dataset(test_data_path)\n",
    "X_test = np.concatenate([X_test1, X_test2])\n",
    "y_test = np.concatenate([y_test1, y_test2])\n",
    "p_test = np.concatenate([p_test1, p_test2])"
   ]
  },
  {
   "cell_type": "markdown",
   "id": "f5efa661",
   "metadata": {},
   "source": [
    "## Evaluate average performance on each data set. "
   ]
  },
  {
   "cell_type": "code",
   "execution_count": 8,
   "id": "e1139a28",
   "metadata": {},
   "outputs": [],
   "source": [
    "## Evaluate\n",
    "import numpy as np\n",
    "import pandas as pd\n",
    "loss_dict = {}\n",
    "embeddings = []\n",
    "for label in np.unique(y_test):\n",
    "    \n",
    "    data   = np.array([datum for (d, datum) in enumerate(X_test) if y_test[d] == label])\n",
    "    pars   = np.array([par for (p, par) in enumerate(p_test) if y_test[p] == label])\n",
    "    labels = np.ones(len(data)) * label\n",
    "\n",
    "    losses, embds = run_epoch(data, labels, pars,\n",
    "                              net, 0, None,\n",
    "                              train=False,\n",
    "                              batch_size=train_info['batch_size'],\n",
    "                              beta=train_info['beta'],\n",
    "                              fp_normalize=train_info['fp_normalize'],\n",
    "                              device=train_info['device'],\n",
    "                              return_embeddings=True)\n",
    "    avg_losses = [np.mean(loss) for loss in losses]\n",
    "    loss_dict[test_system_classes[label]] = avg_losses\n",
    "    embeddings+=(list(embds.detach().cpu().numpy()))\n",
    "df = pd.DataFrame(data=loss_dict)\n",
    "df.index = ['Total', 'Recon', 'Sparsity', 'Param']\n",
    "df.to_pickle(os.path.join(results_dir, 'results.pkl'))\n",
    "\n",
    "embeddings = np.array(embeddings)\n",
    "np.save(os.path.join(results_dir,'embeddings.npy'), embeddings)\n"
   ]
  },
  {
   "cell_type": "code",
   "execution_count": 9,
   "id": "ab9dab68",
   "metadata": {},
   "outputs": [
    {
     "data": {
      "text/html": [
       "<div>\n",
       "<style scoped>\n",
       "    .dataframe tbody tr th:only-of-type {\n",
       "        vertical-align: middle;\n",
       "    }\n",
       "\n",
       "    .dataframe tbody tr th {\n",
       "        vertical-align: top;\n",
       "    }\n",
       "\n",
       "    .dataframe thead th {\n",
       "        text-align: right;\n",
       "    }\n",
       "</style>\n",
       "<table border=\"1\" class=\"dataframe\">\n",
       "  <thead>\n",
       "    <tr style=\"text-align: right;\">\n",
       "      <th></th>\n",
       "      <th>saddle_node 0</th>\n",
       "      <th>saddle_node 1</th>\n",
       "      <th>pitchfork 0</th>\n",
       "      <th>pitchfork 1</th>\n",
       "      <th>transcritical 0</th>\n",
       "      <th>transcritical 1</th>\n",
       "      <th>selkov 0</th>\n",
       "      <th>selkov 1</th>\n",
       "      <th>homoclinic 0</th>\n",
       "      <th>homoclinic 1</th>\n",
       "      <th>vanderpol 0</th>\n",
       "      <th>simple_oscillator 0</th>\n",
       "      <th>simple_oscillator 1</th>\n",
       "      <th>fitzhugh_nagumo 0</th>\n",
       "      <th>fitzhugh_nagumo 1</th>\n",
       "    </tr>\n",
       "  </thead>\n",
       "  <tbody>\n",
       "    <tr>\n",
       "      <th>Total</th>\n",
       "      <td>0.420389</td>\n",
       "      <td>0.322221</td>\n",
       "      <td>0.321069</td>\n",
       "      <td>0.391398</td>\n",
       "      <td>0.393298</td>\n",
       "      <td>0.374072</td>\n",
       "      <td>1.438597</td>\n",
       "      <td>1.007859</td>\n",
       "      <td>0.623906</td>\n",
       "      <td>0.605859</td>\n",
       "      <td>0.539467</td>\n",
       "      <td>0.267183</td>\n",
       "      <td>0.422651</td>\n",
       "      <td>0.753196</td>\n",
       "      <td>0.758404</td>\n",
       "    </tr>\n",
       "    <tr>\n",
       "      <th>Recon</th>\n",
       "      <td>0.420389</td>\n",
       "      <td>0.322221</td>\n",
       "      <td>0.321069</td>\n",
       "      <td>0.391398</td>\n",
       "      <td>0.393298</td>\n",
       "      <td>0.374072</td>\n",
       "      <td>1.438597</td>\n",
       "      <td>1.007859</td>\n",
       "      <td>0.623906</td>\n",
       "      <td>0.605859</td>\n",
       "      <td>0.539467</td>\n",
       "      <td>0.267183</td>\n",
       "      <td>0.422651</td>\n",
       "      <td>0.753196</td>\n",
       "      <td>0.758404</td>\n",
       "    </tr>\n",
       "    <tr>\n",
       "      <th>Sparsity</th>\n",
       "      <td>1.229716</td>\n",
       "      <td>1.301200</td>\n",
       "      <td>1.328618</td>\n",
       "      <td>0.948006</td>\n",
       "      <td>1.169731</td>\n",
       "      <td>1.328961</td>\n",
       "      <td>0.837715</td>\n",
       "      <td>0.839167</td>\n",
       "      <td>0.807899</td>\n",
       "      <td>0.807420</td>\n",
       "      <td>0.944205</td>\n",
       "      <td>0.856498</td>\n",
       "      <td>0.478071</td>\n",
       "      <td>0.488960</td>\n",
       "      <td>0.490939</td>\n",
       "    </tr>\n",
       "    <tr>\n",
       "      <th>Param</th>\n",
       "      <td>0.050719</td>\n",
       "      <td>0.053958</td>\n",
       "      <td>0.072847</td>\n",
       "      <td>0.116136</td>\n",
       "      <td>0.057236</td>\n",
       "      <td>0.061470</td>\n",
       "      <td>2.813056</td>\n",
       "      <td>2.782002</td>\n",
       "      <td>0.670102</td>\n",
       "      <td>0.608618</td>\n",
       "      <td>4.616770</td>\n",
       "      <td>0.151393</td>\n",
       "      <td>0.269408</td>\n",
       "      <td>4.272512</td>\n",
       "      <td>4.236902</td>\n",
       "    </tr>\n",
       "  </tbody>\n",
       "</table>\n",
       "</div>"
      ],
      "text/plain": [
       "          saddle_node 0  saddle_node 1  pitchfork 0  pitchfork 1  \\\n",
       "Total          0.420389       0.322221     0.321069     0.391398   \n",
       "Recon          0.420389       0.322221     0.321069     0.391398   \n",
       "Sparsity       1.229716       1.301200     1.328618     0.948006   \n",
       "Param          0.050719       0.053958     0.072847     0.116136   \n",
       "\n",
       "          transcritical 0  transcritical 1  selkov 0  selkov 1  homoclinic 0  \\\n",
       "Total            0.393298         0.374072  1.438597  1.007859      0.623906   \n",
       "Recon            0.393298         0.374072  1.438597  1.007859      0.623906   \n",
       "Sparsity         1.169731         1.328961  0.837715  0.839167      0.807899   \n",
       "Param            0.057236         0.061470  2.813056  2.782002      0.670102   \n",
       "\n",
       "          homoclinic 1  vanderpol 0  simple_oscillator 0  simple_oscillator 1  \\\n",
       "Total         0.605859     0.539467             0.267183             0.422651   \n",
       "Recon         0.605859     0.539467             0.267183             0.422651   \n",
       "Sparsity      0.807420     0.944205             0.856498             0.478071   \n",
       "Param         0.608618     4.616770             0.151393             0.269408   \n",
       "\n",
       "          fitzhugh_nagumo 0  fitzhugh_nagumo 1  \n",
       "Total              0.753196           0.758404  \n",
       "Recon              0.753196           0.758404  \n",
       "Sparsity           0.488960           0.490939  \n",
       "Param              4.272512           4.236902  "
      ]
     },
     "execution_count": 9,
     "metadata": {},
     "output_type": "execute_result"
    }
   ],
   "source": [
    "df"
   ]
  },
  {
   "cell_type": "markdown",
   "id": "5ab4f634",
   "metadata": {},
   "source": [
    "## Visualize Embeddings\n",
    "Finally, let's plot the first two PCA components of the embeddings. "
   ]
  },
  {
   "cell_type": "code",
   "execution_count": 10,
   "id": "a517c9ba",
   "metadata": {},
   "outputs": [
    {
     "data": {
      "image/png": "[encoded data removed]",
      "text/plain": [
       "<Figure size 800x800 with 1 Axes>"
      ]
     },
     "metadata": {},
     "output_type": "display_data"
    }
   ],
   "source": [
    "from sklearn.decomposition import PCA\n",
    "import matplotlib.pyplot as plt\n",
    "from matplotlib.lines import Line2D\n",
    "from src.utils._utils import nearly_square\n",
    "import colorsys\n",
    "\n",
    "fig, ax = plt.subplots(figsize=(8, 8))\n",
    "\n",
    "# Load embeddings\n",
    "results_dir = f'/home/mgricci/results/phase2vec/{train_info[\"exp_name\"]}'\n",
    "embeddings = np.load(os.path.join(results_dir,f'embeddings.npy'))\n",
    "\n",
    "# PCA\n",
    "pca = PCA(n_components=2)\n",
    "z   = pca.fit_transform(embeddings)\n",
    "\n",
    "# Colors and plotting\n",
    "class_hues = np.linspace(0.0, 1.0, num_test_classes)\n",
    "class_rgbs = [colorsys.hsv_to_rgb(h,1.0,1.0) for h in class_hues]\n",
    "\n",
    "colors = [class_rgbs[l] for l in np.sort(y_test)]\n",
    "ax.scatter(z[:,0], z[:,1], c=np.array(colors), alpha=.1, s=4)\n",
    "\n",
    "m,n = nearly_square(num_test_classes)\n",
    "legend_elements = [Line2D([0], [0], marker='o', color='w', label=test_system_classes[l],\n",
    "                          markerfacecolor=class_rgbs[l], markersize=15) for l in np.unique(y_test)]\n",
    "ax.legend(handles=legend_elements,bbox_to_anchor=(.9, -.1),ncol=m)\n",
    "ax.set_xlabel('PCA 1')\n",
    "ax.set_ylabel('PCA 2')\n",
    "plt.show()"
   ]
  },
  {
   "cell_type": "code",
   "execution_count": null,
   "id": "964aa3ed",
   "metadata": {},
   "outputs": [],
   "source": []
  }
 ],
 "metadata": {
  "kernelspec": {
   "display_name": "Python 3 (ipykernel)",
   "language": "python",
   "name": "python3"
  },
  "language_info": {
   "codemirror_mode": {
    "name": "ipython",
    "version": 3
   },
   "file_extension": ".py",
   "mimetype": "text/x-python",
   "name": "python",
   "nbconvert_exporter": "python",
   "pygments_lexer": "ipython3",
   "version": "3.8.13"
  }
 },
 "nbformat": 4,
 "nbformat_minor": 5
}
